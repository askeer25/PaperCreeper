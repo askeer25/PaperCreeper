{
 "cells": [
  {
   "cell_type": "markdown",
   "metadata": {},
   "source": [
    "# Paper Creeper\n",
    "## 介绍\n",
    "这是一个简单的论文辅助检索工具，可以从arXiv智能检索科学论文。"
   ]
  },
  {
   "cell_type": "markdown",
   "metadata": {},
   "source": [
    "## 安装"
   ]
  },
  {
   "cell_type": "markdown",
   "metadata": {},
   "source": [
    "### 获取api_key\n",
    "支持OpenAI、Deepseek以及其它代理商(例如ChatAnyWhere)"
   ]
  },
  {
   "cell_type": "markdown",
   "metadata": {},
   "source": [
    "### 安装依赖项"
   ]
  },
  {
   "cell_type": "code",
   "execution_count": 1,
   "metadata": {},
   "outputs": [
    {
     "name": "stdout",
     "output_type": "stream",
     "text": [
      "Requirement already satisfied: arxiv in /home/duansy/miniconda3/envs/vinci/lib/python3.11/site-packages (2.1.3)\n",
      "Requirement already satisfied: openai in /home/duansy/miniconda3/envs/vinci/lib/python3.11/site-packages (1.59.3)\n",
      "Requirement already satisfied: python-dotenv in /home/duansy/miniconda3/envs/vinci/lib/python3.11/site-packages (1.0.1)\n",
      "Requirement already satisfied: feedparser~=6.0.10 in /home/duansy/miniconda3/envs/vinci/lib/python3.11/site-packages (from arxiv) (6.0.11)\n",
      "Requirement already satisfied: requests~=2.32.0 in /home/duansy/miniconda3/envs/vinci/lib/python3.11/site-packages (from arxiv) (2.32.3)\n",
      "Requirement already satisfied: anyio<5,>=3.5.0 in /home/duansy/miniconda3/envs/vinci/lib/python3.11/site-packages (from openai) (4.7.0)\n",
      "Requirement already satisfied: distro<2,>=1.7.0 in /home/duansy/miniconda3/envs/vinci/lib/python3.11/site-packages (from openai) (1.9.0)\n",
      "Requirement already satisfied: httpx<1,>=0.23.0 in /home/duansy/miniconda3/envs/vinci/lib/python3.11/site-packages (from openai) (0.27.2)\n",
      "Requirement already satisfied: jiter<1,>=0.4.0 in /home/duansy/miniconda3/envs/vinci/lib/python3.11/site-packages (from openai) (0.8.0)\n",
      "Requirement already satisfied: pydantic<3,>=1.9.0 in /home/duansy/miniconda3/envs/vinci/lib/python3.11/site-packages (from openai) (2.10.3)\n",
      "Requirement already satisfied: sniffio in /home/duansy/miniconda3/envs/vinci/lib/python3.11/site-packages (from openai) (1.3.1)\n",
      "Requirement already satisfied: tqdm>4 in /home/duansy/miniconda3/envs/vinci/lib/python3.11/site-packages (from openai) (4.67.1)\n",
      "Requirement already satisfied: typing-extensions<5,>=4.11 in /home/duansy/miniconda3/envs/vinci/lib/python3.11/site-packages (from openai) (4.12.2)\n",
      "Requirement already satisfied: idna>=2.8 in /home/duansy/miniconda3/envs/vinci/lib/python3.11/site-packages (from anyio<5,>=3.5.0->openai) (3.10)\n",
      "Requirement already satisfied: sgmllib3k in /home/duansy/miniconda3/envs/vinci/lib/python3.11/site-packages (from feedparser~=6.0.10->arxiv) (1.0.0)\n",
      "Requirement already satisfied: certifi in /home/duansy/miniconda3/envs/vinci/lib/python3.11/site-packages (from httpx<1,>=0.23.0->openai) (2024.8.30)\n",
      "Requirement already satisfied: httpcore==1.* in /home/duansy/miniconda3/envs/vinci/lib/python3.11/site-packages (from httpx<1,>=0.23.0->openai) (1.0.7)\n",
      "Requirement already satisfied: h11<0.15,>=0.13 in /home/duansy/miniconda3/envs/vinci/lib/python3.11/site-packages (from httpcore==1.*->httpx<1,>=0.23.0->openai) (0.14.0)\n",
      "Requirement already satisfied: annotated-types>=0.6.0 in /home/duansy/miniconda3/envs/vinci/lib/python3.11/site-packages (from pydantic<3,>=1.9.0->openai) (0.7.0)\n",
      "Requirement already satisfied: pydantic-core==2.27.1 in /home/duansy/miniconda3/envs/vinci/lib/python3.11/site-packages (from pydantic<3,>=1.9.0->openai) (2.27.1)\n",
      "Requirement already satisfied: charset-normalizer<4,>=2 in /home/duansy/miniconda3/envs/vinci/lib/python3.11/site-packages (from requests~=2.32.0->arxiv) (3.4.0)\n",
      "Requirement already satisfied: urllib3<3,>=1.21.1 in /home/duansy/miniconda3/envs/vinci/lib/python3.11/site-packages (from requests~=2.32.0->arxiv) (2.2.3)\n",
      "\n",
      "\u001b[1m[\u001b[0m\u001b[34;49mnotice\u001b[0m\u001b[1;39;49m]\u001b[0m\u001b[39;49m A new release of pip is available: \u001b[0m\u001b[31;49m24.3.1\u001b[0m\u001b[39;49m -> \u001b[0m\u001b[32;49m25.0\u001b[0m\n",
      "\u001b[1m[\u001b[0m\u001b[34;49mnotice\u001b[0m\u001b[1;39;49m]\u001b[0m\u001b[39;49m To update, run: \u001b[0m\u001b[32;49mpip install --upgrade pip\u001b[0m\n"
     ]
    }
   ],
   "source": [
    "! pip install arxiv openai python-dotenv"
   ]
  },
  {
   "cell_type": "markdown",
   "metadata": {},
   "source": [
    "或者"
   ]
  },
  {
   "cell_type": "code",
   "execution_count": 2,
   "metadata": {},
   "outputs": [
    {
     "name": "stdout",
     "output_type": "stream",
     "text": [
      "Requirement already satisfied: arxiv==2.1.3 in /home/duansy/miniconda3/envs/vinci/lib/python3.11/site-packages (from -r requirements.txt (line 1)) (2.1.3)\n",
      "Requirement already satisfied: openai==1.59.3 in /home/duansy/miniconda3/envs/vinci/lib/python3.11/site-packages (from -r requirements.txt (line 2)) (1.59.3)\n",
      "Requirement already satisfied: python-dotenv==1.0.1 in /home/duansy/miniconda3/envs/vinci/lib/python3.11/site-packages (from -r requirements.txt (line 3)) (1.0.1)\n",
      "Requirement already satisfied: feedparser~=6.0.10 in /home/duansy/miniconda3/envs/vinci/lib/python3.11/site-packages (from arxiv==2.1.3->-r requirements.txt (line 1)) (6.0.11)\n",
      "Requirement already satisfied: requests~=2.32.0 in /home/duansy/miniconda3/envs/vinci/lib/python3.11/site-packages (from arxiv==2.1.3->-r requirements.txt (line 1)) (2.32.3)\n",
      "Requirement already satisfied: anyio<5,>=3.5.0 in /home/duansy/miniconda3/envs/vinci/lib/python3.11/site-packages (from openai==1.59.3->-r requirements.txt (line 2)) (4.7.0)\n",
      "Requirement already satisfied: distro<2,>=1.7.0 in /home/duansy/miniconda3/envs/vinci/lib/python3.11/site-packages (from openai==1.59.3->-r requirements.txt (line 2)) (1.9.0)\n",
      "Requirement already satisfied: httpx<1,>=0.23.0 in /home/duansy/miniconda3/envs/vinci/lib/python3.11/site-packages (from openai==1.59.3->-r requirements.txt (line 2)) (0.27.2)\n",
      "Requirement already satisfied: jiter<1,>=0.4.0 in /home/duansy/miniconda3/envs/vinci/lib/python3.11/site-packages (from openai==1.59.3->-r requirements.txt (line 2)) (0.8.0)\n",
      "Requirement already satisfied: pydantic<3,>=1.9.0 in /home/duansy/miniconda3/envs/vinci/lib/python3.11/site-packages (from openai==1.59.3->-r requirements.txt (line 2)) (2.10.3)\n",
      "Requirement already satisfied: sniffio in /home/duansy/miniconda3/envs/vinci/lib/python3.11/site-packages (from openai==1.59.3->-r requirements.txt (line 2)) (1.3.1)\n",
      "Requirement already satisfied: tqdm>4 in /home/duansy/miniconda3/envs/vinci/lib/python3.11/site-packages (from openai==1.59.3->-r requirements.txt (line 2)) (4.67.1)\n",
      "Requirement already satisfied: typing-extensions<5,>=4.11 in /home/duansy/miniconda3/envs/vinci/lib/python3.11/site-packages (from openai==1.59.3->-r requirements.txt (line 2)) (4.12.2)\n",
      "Requirement already satisfied: idna>=2.8 in /home/duansy/miniconda3/envs/vinci/lib/python3.11/site-packages (from anyio<5,>=3.5.0->openai==1.59.3->-r requirements.txt (line 2)) (3.10)\n",
      "Requirement already satisfied: sgmllib3k in /home/duansy/miniconda3/envs/vinci/lib/python3.11/site-packages (from feedparser~=6.0.10->arxiv==2.1.3->-r requirements.txt (line 1)) (1.0.0)\n",
      "Requirement already satisfied: certifi in /home/duansy/miniconda3/envs/vinci/lib/python3.11/site-packages (from httpx<1,>=0.23.0->openai==1.59.3->-r requirements.txt (line 2)) (2024.8.30)\n",
      "Requirement already satisfied: httpcore==1.* in /home/duansy/miniconda3/envs/vinci/lib/python3.11/site-packages (from httpx<1,>=0.23.0->openai==1.59.3->-r requirements.txt (line 2)) (1.0.7)\n",
      "Requirement already satisfied: h11<0.15,>=0.13 in /home/duansy/miniconda3/envs/vinci/lib/python3.11/site-packages (from httpcore==1.*->httpx<1,>=0.23.0->openai==1.59.3->-r requirements.txt (line 2)) (0.14.0)\n",
      "Requirement already satisfied: annotated-types>=0.6.0 in /home/duansy/miniconda3/envs/vinci/lib/python3.11/site-packages (from pydantic<3,>=1.9.0->openai==1.59.3->-r requirements.txt (line 2)) (0.7.0)\n",
      "Requirement already satisfied: pydantic-core==2.27.1 in /home/duansy/miniconda3/envs/vinci/lib/python3.11/site-packages (from pydantic<3,>=1.9.0->openai==1.59.3->-r requirements.txt (line 2)) (2.27.1)\n",
      "Requirement already satisfied: charset-normalizer<4,>=2 in /home/duansy/miniconda3/envs/vinci/lib/python3.11/site-packages (from requests~=2.32.0->arxiv==2.1.3->-r requirements.txt (line 1)) (3.4.0)\n",
      "Requirement already satisfied: urllib3<3,>=1.21.1 in /home/duansy/miniconda3/envs/vinci/lib/python3.11/site-packages (from requests~=2.32.0->arxiv==2.1.3->-r requirements.txt (line 1)) (2.2.3)\n",
      "\n",
      "\u001b[1m[\u001b[0m\u001b[34;49mnotice\u001b[0m\u001b[1;39;49m]\u001b[0m\u001b[39;49m A new release of pip is available: \u001b[0m\u001b[31;49m24.3.1\u001b[0m\u001b[39;49m -> \u001b[0m\u001b[32;49m25.0\u001b[0m\n",
      "\u001b[1m[\u001b[0m\u001b[34;49mnotice\u001b[0m\u001b[1;39;49m]\u001b[0m\u001b[39;49m To update, run: \u001b[0m\u001b[32;49mpip install --upgrade pip\u001b[0m\n"
     ]
    }
   ],
   "source": [
    "! pip install -r requirements.txt"
   ]
  },
  {
   "cell_type": "markdown",
   "metadata": {},
   "source": [
    "## 运行"
   ]
  },
  {
   "cell_type": "markdown",
   "metadata": {},
   "source": [
    "### 外部函数"
   ]
  },
  {
   "cell_type": "code",
   "execution_count": 8,
   "metadata": {},
   "outputs": [],
   "source": [
    "from llm_util import *\n",
    "from arxiv_util import *\n",
    "from ResearchAgent import *"
   ]
  },
  {
   "cell_type": "markdown",
   "metadata": {},
   "source": [
    "### 主函数\n",
    "参数说明：\n",
    "- `model_name`: LLM模型名称\n",
    "- `user_input`: 文献检索查询语句"
   ]
  },
  {
   "cell_type": "code",
   "execution_count": 9,
   "metadata": {},
   "outputs": [],
   "source": [
    "def search_and_summary(model_name: str=\"gpt-4o\", user_input:str=None, num_each_query:int=5):\n",
    "    load_dotenv()\n",
    "    llm = LLM_client(model_name)\n",
    "    agent = ResearchAgent(llm)\n",
    "    logging.info(\"开始主函数, 用户输入: %s\", user_input)\n",
    "    try:\n",
    "        response = agent.search_and_summarize(user_input, num_each_query)\n",
    "        # print(response)\n",
    "        return response\n",
    "    except Exception as e:\n",
    "        logging.error(\"An error occurred: %s\", e)\n",
    "        return None"
   ]
  },
  {
   "cell_type": "markdown",
   "metadata": {},
   "source": [
    "### 设置模型名称\n",
    "默认支持的模型名称有：\n",
    "- deepseek-chat: 需要在`.env`环境中指定`DEEPSEEK_API_KEY`和`DEEPSEEK_BASE_URL`\n",
    "- GPT*: 需要在`.env`环境中指定`OPENAI_API_KEY`和`OPENAI_BASE_URL`"
   ]
  },
  {
   "cell_type": "code",
   "execution_count": 10,
   "metadata": {},
   "outputs": [],
   "source": [
    "# 设置\n",
    "model_name = \"gpt-4o\""
   ]
  },
  {
   "cell_type": "code",
   "execution_count": 11,
   "metadata": {},
   "outputs": [],
   "source": [
    "# display util\n",
    "from IPython.display import Markdown, display\n",
    "\n",
    "def display_response_as_markdown(response):\n",
    "    display(Markdown(response))\n"
   ]
  },
  {
   "cell_type": "markdown",
   "metadata": {},
   "source": [
    "### 检索论文"
   ]
  },
  {
   "cell_type": "code",
   "execution_count": 12,
   "metadata": {},
   "outputs": [
    {
     "name": "stderr",
     "output_type": "stream",
     "text": [
      "2025-02-09 21:03:17,585 - INFO - 开始主函数, 用户输入: \n",
      "Find a paper about the application of non-negative matrix decomposition to text clustering or image analysis.\n",
      "2025-02-09 21:03:17,599 - INFO - 开始搜索和总结.\n",
      "2025-02-09 21:03:17,605 - INFO - 分析用户查询.\n",
      "2025-02-09 21:03:17,612 - INFO - 从用户输入中提取关键词.\n",
      "2025-02-09 21:03:18,995 - INFO - HTTP Request: POST https://openrouter.ai/api/v1/chat/completions \"HTTP/1.1 200 OK\"\n",
      "2025-02-09 21:03:20,928 - INFO - 从用户输入中提取日期.\n",
      "2025-02-09 21:03:21,256 - INFO - HTTP Request: POST https://openrouter.ai/api/v1/chat/completions \"HTTP/1.1 200 OK\"\n",
      "2025-02-09 21:03:22,083 - INFO - 从用户输入中识别研究领域.\n",
      "2025-02-09 21:03:22,381 - INFO - HTTP Request: POST https://openrouter.ai/api/v1/chat/completions \"HTTP/1.1 200 OK\"\n",
      "2025-02-09 21:03:23,269 - INFO - 提取查询关键词: ['non-negative matrix decomposition text clustering', 'non-negative matrix factorization image analysis', 'applications of non-negative matrix decomposition in clustering', 'non-negative matrix factorization for image clustering', 'text clustering using non-negative matrix decomposition', 'image analysis with non-negative matrix factorization']\n",
      "2025-02-09 21:03:23,331 - INFO - Requesting page (first: True, try: 0): https://export.arxiv.org/api/query?search_query=non-negative+matrix+decomposition+text+clustering&id_list=&sortBy=relevance&sortOrder=descending&start=0&max_results=100\n"
     ]
    },
    {
     "name": "stdout",
     "output_type": "stream",
     "text": [
      "<itertools.islice object at 0x7fa591013dd0>\n"
     ]
    },
    {
     "name": "stderr",
     "output_type": "stream",
     "text": [
      "2025-02-09 21:03:27,052 - INFO - Got first page: 100 of 374141 total results\n",
      "2025-02-09 21:03:27,064 - INFO - Requesting page (first: True, try: 0): https://export.arxiv.org/api/query?search_query=non-negative+matrix+factorization+image+analysis&id_list=&sortBy=relevance&sortOrder=descending&start=0&max_results=100\n"
     ]
    },
    {
     "name": "stdout",
     "output_type": "stream",
     "text": [
      "<itertools.islice object at 0x7fa5911e5c60>\n"
     ]
    },
    {
     "name": "stderr",
     "output_type": "stream",
     "text": [
      "2025-02-09 21:03:29,615 - INFO - Got first page: 100 of 838857 total results\n",
      "2025-02-09 21:03:29,619 - INFO - Requesting page (first: True, try: 0): https://export.arxiv.org/api/query?search_query=applications+of+non-negative+matrix+decomposition+in+clustering&id_list=&sortBy=relevance&sortOrder=descending&start=0&max_results=100\n"
     ]
    },
    {
     "name": "stdout",
     "output_type": "stream",
     "text": [
      "<itertools.islice object at 0x7fa5911e5c60>\n"
     ]
    },
    {
     "name": "stderr",
     "output_type": "stream",
     "text": [
      "2025-02-09 21:03:32,458 - INFO - Got first page: 100 of 2655713 total results\n",
      "2025-02-09 21:03:32,463 - INFO - Requesting page (first: True, try: 0): https://export.arxiv.org/api/query?search_query=non-negative+matrix+factorization+for+image+clustering&id_list=&sortBy=relevance&sortOrder=descending&start=0&max_results=100\n"
     ]
    },
    {
     "name": "stdout",
     "output_type": "stream",
     "text": [
      "<itertools.islice object at 0x7fa5913bc540>\n"
     ]
    },
    {
     "name": "stderr",
     "output_type": "stream",
     "text": [
      "2025-02-09 21:03:35,240 - INFO - Got first page: 100 of 2194061 total results\n",
      "2025-02-09 21:03:35,264 - INFO - Requesting page (first: True, try: 0): https://export.arxiv.org/api/query?search_query=text+clustering+using+non-negative+matrix+decomposition&id_list=&sortBy=relevance&sortOrder=descending&start=0&max_results=100\n"
     ]
    },
    {
     "name": "stdout",
     "output_type": "stream",
     "text": [
      "<itertools.islice object at 0x7fa5911c0a90>\n"
     ]
    },
    {
     "name": "stderr",
     "output_type": "stream",
     "text": [
      "2025-02-09 21:03:38,293 - INFO - Got first page: 100 of 1403851 total results\n",
      "2025-02-09 21:03:38,295 - INFO - Requesting page (first: True, try: 0): https://export.arxiv.org/api/query?search_query=image+analysis+with+non-negative+matrix+factorization&id_list=&sortBy=relevance&sortOrder=descending&start=0&max_results=100\n"
     ]
    },
    {
     "name": "stdout",
     "output_type": "stream",
     "text": [
      "<itertools.islice object at 0x7fa591013ab0>\n"
     ]
    },
    {
     "name": "stderr",
     "output_type": "stream",
     "text": [
      "2025-02-09 21:03:41,946 - INFO - Got first page: 100 of 2087920 total results\n",
      "2025-02-09 21:03:41,953 - INFO - 删除早期搜索结果.\n",
      "2025-02-09 21:03:41,957 - INFO - 重新排序搜索结果.\n",
      "2025-02-09 21:03:42,637 - INFO - HTTP Request: POST https://openrouter.ai/api/v1/chat/completions \"HTTP/1.1 200 OK\"\n",
      "2025-02-09 21:03:43,853 - INFO - HTTP Request: POST https://openrouter.ai/api/v1/chat/completions \"HTTP/1.1 200 OK\"\n",
      "2025-02-09 21:03:44,965 - INFO - HTTP Request: POST https://openrouter.ai/api/v1/chat/completions \"HTTP/1.1 200 OK\"\n",
      "2025-02-09 21:03:46,075 - INFO - HTTP Request: POST https://openrouter.ai/api/v1/chat/completions \"HTTP/1.1 200 OK\"\n",
      "2025-02-09 21:03:47,202 - INFO - HTTP Request: POST https://openrouter.ai/api/v1/chat/completions \"HTTP/1.1 200 OK\"\n",
      "2025-02-09 21:03:48,279 - INFO - HTTP Request: POST https://openrouter.ai/api/v1/chat/completions \"HTTP/1.1 200 OK\"\n",
      "2025-02-09 21:03:49,544 - INFO - HTTP Request: POST https://openrouter.ai/api/v1/chat/completions \"HTTP/1.1 200 OK\"\n",
      "2025-02-09 21:03:50,444 - INFO - HTTP Request: POST https://openrouter.ai/api/v1/chat/completions \"HTTP/1.1 200 OK\"\n",
      "2025-02-09 21:03:51,310 - INFO - HTTP Request: POST https://openrouter.ai/api/v1/chat/completions \"HTTP/1.1 200 OK\"\n",
      "2025-02-09 21:03:52,520 - INFO - HTTP Request: POST https://openrouter.ai/api/v1/chat/completions \"HTTP/1.1 200 OK\"\n",
      "2025-02-09 21:03:53,672 - INFO - HTTP Request: POST https://openrouter.ai/api/v1/chat/completions \"HTTP/1.1 200 OK\"\n",
      "2025-02-09 21:03:54,740 - INFO - HTTP Request: POST https://openrouter.ai/api/v1/chat/completions \"HTTP/1.1 200 OK\"\n",
      "2025-02-09 21:03:55,624 - INFO - HTTP Request: POST https://openrouter.ai/api/v1/chat/completions \"HTTP/1.1 200 OK\"\n",
      "2025-02-09 21:03:56,475 - INFO - HTTP Request: POST https://openrouter.ai/api/v1/chat/completions \"HTTP/1.1 200 OK\"\n",
      "2025-02-09 21:03:57,566 - INFO - HTTP Request: POST https://openrouter.ai/api/v1/chat/completions \"HTTP/1.1 200 OK\"\n",
      "2025-02-09 21:03:58,647 - INFO - HTTP Request: POST https://openrouter.ai/api/v1/chat/completions \"HTTP/1.1 200 OK\"\n",
      "2025-02-09 21:03:59,610 - INFO - HTTP Request: POST https://openrouter.ai/api/v1/chat/completions \"HTTP/1.1 200 OK\"\n",
      "2025-02-09 21:04:00,517 - INFO - HTTP Request: POST https://openrouter.ai/api/v1/chat/completions \"HTTP/1.1 200 OK\"\n",
      "2025-02-09 21:04:01,317 - INFO - 生成论文总结.\n"
     ]
    },
    {
     "name": "stdout",
     "output_type": "stream",
     "text": [
      "**Title:** Image Analysis Based on Nonnegative/Binary Matrix Factorization\n",
      "**Authors:** Hinako Asaoka, Kazue Kudo\n",
      "**Published:** 2020\n",
      "**Summary:** Using nonnegative/binary matrix factorization (NBMF), a matrix can be decomposed into a nonnegative matrix and a binary matrix. Our analysis of facial images, based on NBMF and using the Fujitsu Digital Annealer, leads to successful image reconstruction and image classification. The NBMF algorithm converges in fewer iterations than those required for the convergence of nonnegative matrix factorization (NMF), although both techniques perform comparably in image classification.\n",
      "**URL:** http://arxiv.org/abs/2007.00889v1\n",
      "**Title:** Matrix Factorization-Based Clustering Of Image Features For Bandwidth-Constrained Information Retrieval\n",
      "**Authors:** Jacob Chakareski, Immanuel Manohar, Shantanu Rane\n",
      "**Published:** 2016\n",
      "**Summary:** We consider the problem of accurately and efficiently querying a remote server to retrieve information about images captured by a mobile device. In addition to reduced transmission overhead and computational complexity, the retrieval protocol should be robust to variations in the image acquisition process, such as translation, rotation, scaling, and sensor-related differences. We propose to extract scale-invariant image features and then perform clustering to reduce the number of features needed for image matching. Principal Component Analysis (PCA) and Non-negative Matrix Factorization (NMF) are investigated as candidate clustering approaches. The image matching complexity at the database server is quadratic in the (small) number of clusters, not in the (very large) number of image features. We employ an image-dependent information content metric to approximate the model order, i.e., the number of clusters, needed for accurate matching, which is preferable to setting the model order using trial and error. We show how to combine the hypotheses provided by PCA and NMF factor loadings, thereby obtaining more accurate retrieval than using either approach alone. In experiments on a database of urban images, we obtain a top-1 retrieval accuracy of 89% and a top-3 accuracy of 92.5%.\n",
      "**URL:** http://arxiv.org/abs/1605.02140v1\n",
      "**Title:** Image Analysis Based on Nonnegative/Binary Matrix Factorization\n",
      "**Authors:** Hinako Asaoka, Kazue Kudo\n",
      "**Published:** 2020\n",
      "**Summary:** Using nonnegative/binary matrix factorization (NBMF), a matrix can be decomposed into a nonnegative matrix and a binary matrix. Our analysis of facial images, based on NBMF and using the Fujitsu Digital Annealer, leads to successful image reconstruction and image classification. The NBMF algorithm converges in fewer iterations than those required for the convergence of nonnegative matrix factorization (NMF), although both techniques perform comparably in image classification.\n",
      "**URL:** http://arxiv.org/abs/2007.00889v1\n",
      "**Title:** Deep Approximately Orthogonal Nonnegative Matrix Factorization for Clustering\n",
      "**Authors:** Yuning Qiu, Guoxu Zhou, Kan Xie\n",
      "**Published:** 2017\n",
      "**Summary:** Nonnegative Matrix Factorization (NMF) is a widely used technique for data representation. Inspired by the expressive power of deep learning, several NMF variants equipped with deep architectures have been proposed. However, these methods mostly use the only nonnegativity while ignoring task-specific features of data. In this paper, we propose a novel deep approximately orthogonal nonnegative matrix factorization method where both nonnegativity and orthogonality are imposed with the aim to perform a hierarchical clustering by using different level of abstractions of data. Experiment on two face image datasets showed that the proposed method achieved better clustering performance than other deep matrix factorization methods and state-of-the-art single layer NMF variants.\n",
      "**URL:** http://arxiv.org/abs/1711.07437v1\n",
      "**Title:** Robust Non-Linear Matrix Factorization for Dictionary Learning, Denoising, and Clustering\n",
      "**Authors:** Jicong Fan, Chengrun Yang, Madeleine Udell\n",
      "**Published:** 2020\n",
      "**Summary:** Low dimensional nonlinear structure abounds in datasets across computer vision and machine learning. Kernelized matrix factorization techniques have recently been proposed to learn these nonlinear structures for denoising, classification, dictionary learning, and missing data imputation, by observing that the image of the matrix in a sufficiently large feature space is low-rank. However, these nonlinear methods fail in the presence of sparse noise or outliers. In this work, we propose a new robust nonlinear factorization method called Robust Non-Linear Matrix Factorization (RNLMF). RNLMF constructs a dictionary for the data space by factoring a kernelized feature space; a noisy matrix can then be decomposed as the sum of a sparse noise matrix and a clean data matrix that lies in a low dimensional nonlinear manifold. RNLMF is robust to sparse noise and outliers and scales to matrices with thousands of rows and columns. Empirically, RNLMF achieves noticeable improvements over baseline methods in denoising and clustering.\n",
      "**URL:** http://arxiv.org/abs/2005.01317v2\n",
      "**Title:** Application of Fuzzy Clustering for Text Data Dimensionality Reduction\n",
      "**Authors:** Amir Karami\n",
      "**Published:** 2019\n",
      "**Summary:** Large textual corpora are often represented by the document-term frequency matrix whose elements are the frequency of terms; however, this matrix has two problems: sparsity and high dimensionality. Four dimension reduction strategies are used to address these problems. Of the four strategies, unsupervised feature transformation (UFT) is a popular and efficient strategy to map the terms to a new basis in the document-term frequency matrix. Although several UFT-based methods have been developed, fuzzy clustering has not been considered for dimensionality reduction. This research explores fuzzy clustering as a new UFT-based approach to create a lower-dimensional representation of documents. Performance of fuzzy clustering with and without using global term weighting methods is shown to exceed principal component analysis and singular value decomposition. This study also explores the effect of applying different fuzzifier values on fuzzy clustering for dimensionality reduction purpose.\n",
      "**URL:** http://arxiv.org/abs/1909.10881v1\n",
      "**Title:** Separable Quaternion Matrix Factorization for Polarization Images\n",
      "**Authors:** Junjun Pan, Michael K. Ng\n",
      "**Published:** 2022\n",
      "**Summary:** Polarization is a unique characteristic of transverse wave and is represented by Stokes parameters. Analysis of polarization states can reveal valuable information about the sources. In this paper, we propose a separable low-rank quaternion linear mixing model to polarized signals: we assume each column of the source factor matrix equals a column of polarized data matrix and refer to the corresponding problem as separable quaternion matrix factorization (SQMF). We discuss some properties of the matrix that can be decomposed by SQMF. To determine the source factor matrix in quaternion space, we propose a heuristic algorithm called quaternion successive projection algorithm (QSPA) inspired by the successive projection algorithm. To guarantee the effectiveness of QSPA, a new normalization operator is proposed for the quaternion matrix. We use a block coordinate descent algorithm to compute nonnegative factor activation matrix in real number space. We test our method on the applications of polarization image representation and spectro-polarimetric imaging unmixing to verify its effectiveness.\n",
      "**URL:** http://arxiv.org/abs/2207.14039v1\n",
      "**Title:** On Matrix Factorizations in Subspace Clustering\n",
      "**Authors:** Reeshad Arian, Keaton Hamm\n",
      "**Published:** 2021\n",
      "**Summary:** This article explores subspace clustering algorithms using CUR decompositions, and examines the effect of various hyperparameters in these algorithms on clustering performance on two real-world benchmark datasets, the Hopkins155 motion segmentation dataset and the Yale face dataset. Extensive experiments are done for a variety of sampling methods and oversampling parameters for these datasets, and some guidelines for parameter choices are given for practical applications.\n",
      "**URL:** http://arxiv.org/abs/2106.12016v1\n",
      "**Title:** Application of Fuzzy Clustering for Text Data Dimensionality Reduction\n",
      "**Authors:** Amir Karami\n",
      "**Published:** 2019\n",
      "**Summary:** Large textual corpora are often represented by the document-term frequency matrix whose elements are the frequency of terms; however, this matrix has two problems: sparsity and high dimensionality. Four dimension reduction strategies are used to address these problems. Of the four strategies, unsupervised feature transformation (UFT) is a popular and efficient strategy to map the terms to a new basis in the document-term frequency matrix. Although several UFT-based methods have been developed, fuzzy clustering has not been considered for dimensionality reduction. This research explores fuzzy clustering as a new UFT-based approach to create a lower-dimensional representation of documents. Performance of fuzzy clustering with and without using global term weighting methods is shown to exceed principal component analysis and singular value decomposition. This study also explores the effect of applying different fuzzifier values on fuzzy clustering for dimensionality reduction purpose.\n",
      "**URL:** http://arxiv.org/abs/1909.10881v1\n"
     ]
    },
    {
     "name": "stderr",
     "output_type": "stream",
     "text": [
      "2025-02-09 21:04:01,800 - INFO - HTTP Request: POST https://openrouter.ai/api/v1/chat/completions \"HTTP/1.1 200 OK\"\n",
      "2025-02-09 21:04:22,411 - INFO - Search and summary completed.\n"
     ]
    },
    {
     "data": {
      "text/markdown": [
       "# Summary\n",
       "\n",
       "The selected papers primarily explore various matrix factorization techniques applied to image analysis and clustering tasks, with some extending to text data dimensionality reduction. Below is a detailed analysis of each paper’s research direction, innovations, interconnections, and AI’s potential role in further advancing these areas.\n",
       "\n",
       "1. **Image Analysis Based on Nonnegative/Binary Matrix Factorization**\n",
       "\n",
       "   **Main Research Direction and Contributions:** This paper investigates the use of Nonnegative/Binary Matrix Factorization (NBMF) for image analysis, specifically focusing on facial image reconstruction and classification. The authors leverage the Fujitsu Digital Annealer to enhance the performance of the NBMF algorithm.\n",
       "   \n",
       "   **Innovations and Key Findings:** The NBMF algorithm shows quicker convergence compared to traditional Nonnegative Matrix Factorization (NMF) while achieving similar classification results. This efficiency in convergence is a notable advantage.\n",
       "   \n",
       "   **Connections and Relationships:** This paper shares a thematic link with other works focused on matrix factorization for image analysis, particularly those assessing computational efficiency and accuracy.\n",
       "\n",
       "   **Relevance to the Broader Field:** The research contributes to the broader field of computer vision by potentially improving the speed and efficiency of image processing tasks, which are crucial for real-time applications.\n",
       "   \n",
       "   **AI Insights:** Future AI advancements could explore integrating NBMF with more sophisticated deep learning models to enhance facial recognition systems.\n",
       "   \n",
       "   **Score:** 9.0/10  \n",
       "   **Download:** [arXiv](http://arxiv.org/abs/2007.00889v1)\n",
       "\n",
       "2. **Matrix Factorization-Based Clustering Of Image Features For Bandwidth-Constrained Information Retrieval**\n",
       "\n",
       "   **Main Research Direction and Contributions:** This paper addresses the challenge of efficient image retrieval under bandwidth constraints by employing matrix factorization for clustering image features. The focus is on reducing the computational and transmission overhead in querying remote servers.\n",
       "   \n",
       "   **Innovations and Key Findings:** By combining Principal Component Analysis (PCA) with Non-negative Matrix Factorization (NMF), the authors achieve more accurate image retrieval than using either method alone. The proposed method significantly reduces computational complexity by clustering features rather than processing them individually.\n",
       "   \n",
       "   **Connections and Relationships:** The use of NMF aligns this paper with others in the collection that address image analysis through matrix factorization, though it uniquely emphasizes bandwidth and computational efficiency.\n",
       "   \n",
       "   **Relevance to the Broader Field:** This work is highly relevant for applications in mobile and remote sensing technologies where bandwidth and computational resources are limited.\n",
       "   \n",
       "   **AI Insights:** AI techniques such as neural network-based feature extraction could further enhance the clustering and retrieval accuracy while maintaining low computational demands.\n",
       "   \n",
       "   **Score:** 9.0/10  \n",
       "   **Download:** [arXiv](http://arxiv.org/abs/1605.02140v1)\n",
       "\n",
       "3. **Deep Approximately Orthogonal Nonnegative Matrix Factorization for Clustering**\n",
       "\n",
       "   **Main Research Direction and Contributions:** This paper proposes a deep variant of NMF that incorporates orthogonality constraints to improve clustering performance. The method leverages hierarchical data abstractions typical of deep learning models.\n",
       "   \n",
       "   **Innovations and Key Findings:** The integration of orthogonality into NMF allows for better separation of features, enhancing clustering accuracy over traditional NMF methods.\n",
       "   \n",
       "   **Connections and Relationships:** This work connects with the broader theme of improving matrix factorization techniques, particularly by incorporating deep learning architectures to tackle clustering tasks.\n",
       "   \n",
       "   **Relevance to the Broader Field:** Enhancing clustering accuracy is crucial in fields like image processing and bioinformatics, where precise grouping of data is essential.\n",
       "   \n",
       "   **AI Insights:** Further exploration could involve integrating these techniques with deep neural networks to harness their hierarchical feature extraction capabilities.\n",
       "   \n",
       "   **Score:** 8.0/10  \n",
       "   **Download:** [arXiv](http://arxiv.org/abs/1711.07437v1)\n",
       "\n",
       "4. **Robust Non-Linear Matrix Factorization for Dictionary Learning, Denoising, and Clustering**\n",
       "\n",
       "   **Main Research Direction and Contributions:** The paper introduces a robust nonlinear matrix factorization method (RNLMF) for handling sparse noise and outliers in data, applicable to tasks like denoising and clustering.\n",
       "   \n",
       "   **Innovations and Key Findings:** RNLMF's ability to decompose data into sparse noise and clean components is a significant advancement, particularly for noisy datasets.\n",
       "   \n",
       "   **Connections and Relationships:** While focusing on robustness against noise, this paper complements others by addressing the limitations of linear factorization methods in handling real-world data imperfections.\n",
       "   \n",
       "   **Relevance to the Broader Field:** The method is highly applicable in scenarios where data is prone to noise, such as medical imaging and sensor data analysis.\n",
       "   \n",
       "   **AI Insights:** Machine learning techniques could improve RNLMF by learning adaptive thresholds for noise detection and removal.\n",
       "   \n",
       "   **Score:** 6.0/10  \n",
       "   **Download:** [arXiv](http://arxiv.org/abs/2005.01317v2)\n",
       "\n",
       "5. **Application of Fuzzy Clustering for Text Data Dimensionality Reduction**\n",
       "\n",
       "   **Main Research Direction and Contributions:** This paper explores fuzzy clustering as a strategy for dimensionality reduction in text data, addressing issues of sparsity and high dimensionality in document-term matrices.\n",
       "   \n",
       "   **Innovations and Key Findings:** The application of fuzzy clustering demonstrates superior performance over traditional methods like PCA and SVD in reducing text data dimensionality.\n",
       "   \n",
       "   **Connections and Relationships:** Although primarily focused on text data, the paper is indirectly related to others through its goal of efficient data representation, a common theme in matrix factorization research.\n",
       "   \n",
       "   **Relevance to the Broader Field:** This approach is significant for text mining and natural language processing, where efficient representation of high-dimensional data is crucial.\n",
       "   \n",
       "   **AI Insights:** AI-driven semantic analysis could be integrated with fuzzy clustering to improve the interpretability and relevance of reduced dimensions.\n",
       "   \n",
       "   **Score:** 3.0/10  \n",
       "   **Download:** [arXiv](http://arxiv.org/abs/1909.10881v1)\n",
       "\n",
       "6. **Separable Quaternion Matrix Factorization for Polarization Images**\n",
       "\n",
       "   **Main Research Direction and Contributions:** The focus here is on quaternion matrix factorization for analyzing polarization images, which are used in various imaging applications to reveal information about light sources.\n",
       "   \n",
       "   **Innovations and Key Findings:** The proposed separable quaternion matrix factorization method effectively handles the unique characteristics of polarization data, providing a robust framework for signal analysis.\n",
       "   \n",
       "   **Connections and Relationships:** While this work is specialized towards polarization imaging, it shares a mathematical foundation with other matrix factorization approaches discussed in the collection.\n",
       "   \n",
       "   **Relevance to the Broader Field:** The method has implications for enhancing imaging technologies, particularly in fields requiring precise analysis of light properties.\n",
       "   \n",
       "   **AI Insights:** Neural networks could be trained to automate the quaternion factorization process, improving efficiency and scalability.\n",
       "   \n",
       "   **Score:** 3.0/10  \n",
       "   **Download:** [arXiv](http://arxiv.org/abs/2207.14039v1)\n",
       "\n",
       "7. **On Matrix Factorizations in Subspace Clustering**\n",
       "\n",
       "   **Main Research Direction and Contributions:** This paper explores the use of CUR decompositions for subspace clustering, analyzing the impact of various hyperparameters on performance.\n",
       "   \n",
       "   **Innovations and Key Findings:** The study provides practical guidelines for hyperparameter selection, enhancing the applicability of subspace clustering techniques in real-world datasets.\n",
       "   \n",
       "   **Connections and Relationships:** The work ties into the broader exploration of matrix factorizations for clustering, contributing to methodological advancements in this area.\n",
       "   \n",
       "   **Relevance to the Broader Field:** Accurate subspace clustering is essential in many data-driven fields, such as computer vision and bioinformatics, where data dimensionality is a challenge.\n",
       "   \n",
       "   **AI Insights:** Machine learning optimization algorithms could further refine hyperparameter tuning processes for subspace clustering applications.\n",
       "   \n",
       "   **Score:** 3.0/10  \n",
       "   **Download:** [arXiv](http://arxiv.org/abs/2106.12016v1)\n",
       "\n",
       "# Conclusion\n",
       "\n",
       "The collection of papers presented here highlights significant advancements and diverse applications of matrix factorization techniques across image analysis, clustering, and dimensionality reduction tasks. The consistent use of matrix factorization underscores its versatility and effectiveness in handling complex data challenges. Future AI developments could leverage these foundational techniques to further enhance data processing capabilities, particularly through the integration of deep learning and adaptive algorithms."
      ],
      "text/plain": [
       "<IPython.core.display.Markdown object>"
      ]
     },
     "metadata": {},
     "output_type": "display_data"
    }
   ],
   "source": [
    "# 检索并显示总结结果\n",
    "response = search_and_summary(model_name,\n",
    "                              user_input=\"\"\"\n",
    "Find a paper about the application of non-negative matrix decomposition to text clustering or image analysis.\"\"\",\n",
    "                              num_each_query=3)\n",
    "display_response_as_markdown(response)\n"
   ]
  },
  {
   "cell_type": "markdown",
   "metadata": {},
   "source": [
    "## 与arXiv官方网站搜索功能对比的优势"
   ]
  },
  {
   "cell_type": "markdown",
   "metadata": {},
   "source": [
    "1. PaperCreeper支持自然语句描述的查询，并根据查询语句自动生成若干查询词，多次迭代搜索，优化搜索结果。\n",
    "2. PaperCreeper支持对检索结果进行打分和重新排序，提升检索质量。\n",
    "3. PaperCreeper支持LLM对检索结果的阅读和总结，并生成独特见解，方便用户预览文章内容，快速聚焦有用的论文。\n"
   ]
  },
  {
   "cell_type": "markdown",
   "metadata": {},
   "source": [
    "### 相关工具\n",
    "1. [Semantic Scholar](https://www.semanticscholar.org/)\n",
    "2. [OpenScholar](https://openscholar.allen.ai/)\n",
    "3. [Google Scholar](https://scholar.google.com/)"
   ]
  }
 ],
 "metadata": {
  "kernelspec": {
   "display_name": "vinci",
   "language": "python",
   "name": "python3"
  },
  "language_info": {
   "codemirror_mode": {
    "name": "ipython",
    "version": 3
   },
   "file_extension": ".py",
   "mimetype": "text/x-python",
   "name": "python",
   "nbconvert_exporter": "python",
   "pygments_lexer": "ipython3",
   "version": "3.11.10"
  }
 },
 "nbformat": 4,
 "nbformat_minor": 2
}
